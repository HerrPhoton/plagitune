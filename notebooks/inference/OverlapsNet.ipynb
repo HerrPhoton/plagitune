{
 "cells": [
  {
   "cell_type": "code",
   "execution_count": 18,
   "metadata": {},
   "outputs": [],
   "source": [
    "import sys\n",
    "import yaml\n",
    "sys.path.append(\"..\\..\")\n",
    "\n",
    "import torch\n",
    "import matplotlib.pyplot as plt\n",
    "import numpy as np\n",
    "import pandas as pd\n",
    "from tqdm import tqdm\n",
    "\n",
    "from src.nn.train.OverlapsNet_train import PLOverlapsNet\n",
    "from src.data.datasets.overlaps import OverlapsDataset\n",
    "from src.data.loaders.overlaps import get_overlaps_dataloader"
   ]
  },
  {
   "cell_type": "code",
   "execution_count": 19,
   "metadata": {},
   "outputs": [],
   "source": [
    "def bootstrap_test(\n",
    "    model: PLOverlapsNet, \n",
    "    dataset: OverlapsDataset, \n",
    "    n_bootstraps=1000, \n",
    "    num_workers=4, \n",
    "    confidence_level=0.95\n",
    ") -> dict[str, float]:\n",
    "    model.eval()\n",
    "    device = next(model.parameters()).device\n",
    "    \n",
    "    aurocs = []\n",
    "     \n",
    "    loader = get_overlaps_dataloader(\n",
    "        dataset,\n",
    "        batch_size=1,\n",
    "        num_workers=num_workers,\n",
    "        shuffle=False\n",
    "    )\n",
    "\n",
    "    all_samples = []\n",
    "    all_targets = []\n",
    "    \n",
    "    for batch in tqdm(loader, desc=\"Loading test samples\"):\n",
    "        all_samples.append(batch)\n",
    "        all_targets.append(batch[1].item())\n",
    "    \n",
    "    all_targets = np.array(all_targets)\n",
    "    positive_indices = np.where(all_targets == 1)[0]\n",
    "    negative_indices = np.where(all_targets == 0)[0]\n",
    "    \n",
    "    for _ in tqdm(range(n_bootstraps), desc=\"Calculating CI\"):\n",
    "        model.test_metrics.reset()\n",
    "        \n",
    "        pos_bootstrap = np.random.choice(positive_indices, size=len(positive_indices), replace=True)\n",
    "        neg_bootstrap = np.random.choice(negative_indices, size=len(negative_indices), replace=True)\n",
    "        bootstrap_indices = np.concatenate([pos_bootstrap, neg_bootstrap])\n",
    "        np.random.shuffle(bootstrap_indices)\n",
    "        \n",
    "        for idx in bootstrap_indices:\n",
    "            batch = all_samples[idx]\n",
    "            batch = [x.to(device) if isinstance(x, torch.Tensor) else x for x in batch]\n",
    "\n",
    "            features, targets = batch\n",
    "            \n",
    "            with torch.no_grad():\n",
    "                probs = model.forward(features).sigmoid()\n",
    "                model.test_metrics.update(probs, targets.int())\n",
    "        \n",
    "        auroc = model.test_metrics.compute().item()\n",
    "        aurocs.append(auroc)\n",
    "    \n",
    "    alpha = 1 - confidence_level\n",
    "    \n",
    "    lower_percentile = alpha / 2 * 100\n",
    "    upper_percentile = (1 - alpha / 2) * 100\n",
    "    \n",
    "    mean_value = np.mean(aurocs)\n",
    "    std_value = np.std(aurocs)\n",
    "    lower_bound = np.percentile(aurocs, lower_percentile)\n",
    "    upper_bound = np.percentile(aurocs, upper_percentile)\n",
    "    \n",
    "    results = {\n",
    "        'mean': mean_value,\n",
    "        'std': std_value,\n",
    "        'lower_bound': lower_bound,\n",
    "        'upper_bound': upper_bound,\n",
    "    }\n",
    "    \n",
    "    return results"
   ]
  },
  {
   "cell_type": "code",
   "execution_count": 22,
   "metadata": {},
   "outputs": [
    {
     "name": "stderr",
     "output_type": "stream",
     "text": [
      "Calculating distances: 100%|██████████| 4/4 [00:00<00:00, 4015.61it/s]\n",
      "Calculating distances: 100%|██████████| 24/24 [00:00<00:00, 633.70it/s]\n",
      "Extracting overlapping features: 100%|██████████| 4/4 [00:00<00:00, 28.07it/s]\n",
      "Extracting non-overlapping features: 100%|██████████| 24/24 [00:00<00:00, 38.65it/s]\n",
      "Loading test samples: 100%|██████████| 28/28 [00:03<00:00,  8.10it/s]\n",
      "Calculating CI: 100%|██████████| 1000/1000 [00:13<00:00, 74.05it/s]\n"
     ]
    }
   ],
   "source": [
    "with open(\"../../src/nn/configs/OverlapsNet_train.yaml\") as stream:\n",
    "    config = yaml.safe_load(stream)\n",
    "    num_workers = int(config['num_workers'])\n",
    "\n",
    "model = PLOverlapsNet.load_from_checkpoint(\"../../src/nn/weights/OverlapsNet/best.ckpt\", **config)\n",
    "model.eval()\n",
    "\n",
    "test_dataset = OverlapsDataset.from_path(\"../../datasets/PlagiNet/\", split=\"test\")\n",
    "\n",
    "bootstrap_results = bootstrap_test(\n",
    "    model=model,\n",
    "    dataset=test_dataset,\n",
    "    num_workers=int(config['num_workers']),\n",
    ")"
   ]
  },
  {
   "cell_type": "code",
   "execution_count": 23,
   "metadata": {},
   "outputs": [
    {
     "data": {
      "text/html": [
       "<div>\n",
       "<style scoped>\n",
       "    .dataframe tbody tr th:only-of-type {\n",
       "        vertical-align: middle;\n",
       "    }\n",
       "\n",
       "    .dataframe tbody tr th {\n",
       "        vertical-align: top;\n",
       "    }\n",
       "\n",
       "    .dataframe thead th {\n",
       "        text-align: right;\n",
       "    }\n",
       "</style>\n",
       "<table border=\"1\" class=\"dataframe\">\n",
       "  <thead>\n",
       "    <tr style=\"text-align: right;\">\n",
       "      <th></th>\n",
       "      <th>Metric</th>\n",
       "      <th>Mean</th>\n",
       "      <th>Std</th>\n",
       "      <th>Lower Bound</th>\n",
       "      <th>Upper Bound</th>\n",
       "    </tr>\n",
       "  </thead>\n",
       "  <tbody>\n",
       "    <tr>\n",
       "      <th>0</th>\n",
       "      <td>auroc</td>\n",
       "      <td>1.0000</td>\n",
       "      <td>0.0000</td>\n",
       "      <td>1.0000</td>\n",
       "      <td>1.0000</td>\n",
       "    </tr>\n",
       "  </tbody>\n",
       "</table>\n",
       "</div>"
      ],
      "text/plain": [
       "  Metric   Mean    Std  Lower Bound  Upper Bound\n",
       "0  auroc 1.0000 0.0000       1.0000       1.0000"
      ]
     },
     "execution_count": 23,
     "metadata": {},
     "output_type": "execute_result"
    }
   ],
   "source": [
    "data = []\n",
    "\n",
    "data.append({\n",
    "    'Metric': 'auroc',\n",
    "    'Mean': bootstrap_results['mean'],\n",
    "    'Std': bootstrap_results['std'],\n",
    "    'Lower Bound': bootstrap_results['lower_bound'],\n",
    "    'Upper Bound': bootstrap_results['upper_bound'],\n",
    "})\n",
    "\n",
    "pd.set_option('display.float_format', '{:.4f}'.format)\n",
    "pd.DataFrame(data)"
   ]
  }
 ],
 "metadata": {
  "kernelspec": {
   "display_name": "Python 3",
   "language": "python",
   "name": "python3"
  },
  "language_info": {
   "codemirror_mode": {
    "name": "ipython",
    "version": 3
   },
   "file_extension": ".py",
   "mimetype": "text/x-python",
   "name": "python",
   "nbconvert_exporter": "python",
   "pygments_lexer": "ipython3",
   "version": "3.10.11"
  }
 },
 "nbformat": 4,
 "nbformat_minor": 2
}
