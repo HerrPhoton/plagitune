{
 "cells": [
  {
   "cell_type": "code",
   "execution_count": null,
   "metadata": {},
   "outputs": [],
   "source": [
    "import sys\n",
    "import itertools\n",
    "from pathlib import Path\n",
    "from joblib import Parallel, delayed\n",
    "sys.path.append(\"..\\..\")\n",
    "\n",
    "import numpy as np\n",
    "import pandas as pd\n",
    "from tqdm import tqdm\n",
    "from sklearn.metrics import roc_curve, auc\n",
    "\n",
    "from src.data.datasets.overlaps import OverlapsDataset\n",
    "from src.data.matchers.smith_waterman import SmithWatermanMelodyMatcher\n",
    "from src.data.structures.melody import Melody"
   ]
  },
  {
   "cell_type": "code",
   "execution_count": 2,
   "metadata": {},
   "outputs": [],
   "source": [
    "def calculate_levenshtein_distances(pairs: list[tuple[Path, Path]], params: dict) -> list[float]:\n",
    "\n",
    "    def process_pair(pair: tuple[Path, Path]) -> float:\n",
    "        midi1_path, midi2_path = pair\n",
    "        melody1 = Melody.from_midi(midi1_path)\n",
    "        melody2 = Melody.from_midi(midi2_path)\n",
    "        \n",
    "        matcher = SmithWatermanMelodyMatcher(melody1, melody2)\n",
    "        matcher.find_patterns(**params)\n",
    "        distance = matcher.overlaps_levenshtein_distance()\n",
    "\n",
    "        return distance\n",
    "    \n",
    "    distances = Parallel(n_jobs=-1, backend='loky')(\n",
    "        delayed(process_pair)(pair) for pair in pairs\n",
    "    )\n",
    "    \n",
    "    return distances"
   ]
  },
  {
   "cell_type": "code",
   "execution_count": 3,
   "metadata": {},
   "outputs": [],
   "source": [
    "def get_roc_curve(overlaping_distances: list[float], non_overlaping_distances: list[float]) -> tuple[np.ndarray, np.ndarray]:\n",
    "\n",
    "    y_true = np.concatenate([\n",
    "        np.ones(len(overlaping_distances)),\n",
    "        np.zeros(len(non_overlaping_distances))\n",
    "    ])\n",
    "\n",
    "    y_scores = -np.concatenate([\n",
    "        overlaping_distances,\n",
    "        non_overlaping_distances\n",
    "    ])\n",
    "\n",
    "    fpr, tpr, _ = roc_curve(y_true, y_scores)  \n",
    "\n",
    "    return fpr, tpr"
   ]
  },
  {
   "cell_type": "code",
   "execution_count": 4,
   "metadata": {},
   "outputs": [],
   "source": [
    "def evaluate_params(params: dict, dataset: OverlapsDataset) -> dict:\n",
    "    \"\"\"Оценка набора параметров.\n",
    "    \n",
    "    :param dict params: Параметры для оценки\n",
    "    :param OverlapsDataset dataset: Датасет\n",
    "    :return dict: Результаты с параметрами и метриками\n",
    "    \"\"\"\n",
    "    try:\n",
    "        overlaping_distances = calculate_levenshtein_distances(dataset.overlapping_pairs, params)\n",
    "        non_overlaping_distances = calculate_levenshtein_distances(dataset.non_overlapping_pairs, params) \n",
    "\n",
    "        fpr, tpr = get_roc_curve(overlaping_distances, non_overlaping_distances)\n",
    "        auc_val = auc(fpr, tpr)\n",
    "\n",
    "        return {\n",
    "            **params, \n",
    "            'auc': auc_val\n",
    "        }\n",
    "    \n",
    "    except Exception as e:\n",
    "        print(f\"Error with params {params}: {str(e)}\")\n",
    "        return {\n",
    "            **params, \n",
    "            'auc': float('nan')\n",
    "        }\n"
   ]
  },
  {
   "cell_type": "code",
   "execution_count": 5,
   "metadata": {},
   "outputs": [],
   "source": [
    "def grid_search(\n",
    "    dataset: OverlapsDataset,\n",
    "    param_combinations: list[dict],\n",
    ") -> pd.DataFrame:\n",
    "    \n",
    "    results = []\n",
    "\n",
    "    for params in tqdm(param_combinations, desc=\"Grid Search\"):\n",
    "        results.append(evaluate_params(params, dataset))\n",
    "        pd.DataFrame(results).to_csv('grid_search_checkpoint1.csv', index=False)\n",
    "\n",
    "    results_df = pd.DataFrame(results)\n",
    "    results_df = results_df.sort_values('auc', ascending=False)\n",
    "        \n",
    "    return results_df"
   ]
  },
  {
   "cell_type": "code",
   "execution_count": null,
   "metadata": {},
   "outputs": [],
   "source": [
    "param_grid = {  \n",
    "    'threshold_ratio': [0.3, 0.5, 0.7, 0.9],\n",
    "    'min_length': [7, 9, 11],\n",
    "    'gap_penalty': [-3, -2, -1, 0],\n",
    "    'mismatch_score': [-3, -2, -1, 0],\n",
    "    'match_score': [2, 3, 1],\n",
    "    'tolerance': [0, 1, 2],\n",
    "}\n"
   ]
  },
  {
   "cell_type": "code",
   "execution_count": 7,
   "metadata": {},
   "outputs": [],
   "source": [
    "param_combinations = [\n",
    "    dict(zip(param_grid.keys(), values))\n",
    "    for values in itertools.product(*param_grid.values())\n",
    "]"
   ]
  },
  {
   "cell_type": "code",
   "execution_count": 8,
   "metadata": {},
   "outputs": [],
   "source": [
    "dataset = OverlapsDataset.from_path(\"../../datasets/PlagiNet/\", preprocess_data=False)"
   ]
  },
  {
   "cell_type": "code",
   "execution_count": null,
   "metadata": {},
   "outputs": [],
   "source": [
    "grid_search(dataset, param_combinations)"
   ]
  }
 ],
 "metadata": {
  "kernelspec": {
   "display_name": "Python 3",
   "language": "python",
   "name": "python3"
  },
  "language_info": {
   "codemirror_mode": {
    "name": "ipython",
    "version": 3
   },
   "file_extension": ".py",
   "mimetype": "text/x-python",
   "name": "python",
   "nbconvert_exporter": "python",
   "pygments_lexer": "ipython3",
   "version": "3.10.11"
  }
 },
 "nbformat": 4,
 "nbformat_minor": 2
}
