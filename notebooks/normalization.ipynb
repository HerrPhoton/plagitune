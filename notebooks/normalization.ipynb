{
 "cells": [
  {
   "cell_type": "code",
   "execution_count": 1,
   "metadata": {},
   "outputs": [],
   "source": [
    "import sys\n",
    "sys.path.append(\"..\")\n",
    "\n",
    "from src.data.utils.spectrogram_normalizer import SpectrogramNormalizer\n",
    "from src.data.utils.label_normalizer import LabelNormalizer\n",
    "from src.data.datasets.melody_dataset import MelodyDataset\n",
    "from src.data.datasets.audio_dataset import AudioDataset"
   ]
  },
  {
   "cell_type": "code",
   "execution_count": 2,
   "metadata": {},
   "outputs": [
    {
     "name": "stderr",
     "output_type": "stream",
     "text": [
      "Slicing audio: 100%|██████████| 103/103 [00:07<00:00, 14.04it/s]\n"
     ]
    }
   ],
   "source": [
    "train_dataset = AudioDataset.from_path(\"../datasets/melody_extraction/processed/train\")\n",
    "pipeline = train_dataset.pipeline"
   ]
  },
  {
   "cell_type": "code",
   "execution_count": 3,
   "metadata": {},
   "outputs": [],
   "source": [
    "spectrograms = []\n",
    "\n",
    "for a in train_dataset.audio:\n",
    "    \n",
    "    a.trim_silence()\n",
    "    a = pipeline._preprocess_audio(a)\n",
    "\n",
    "    spectrogram = pipeline._get_spectrogram(a)\n",
    "    spectrogram = pipeline.amplitude_to_db(spectrogram.spectrogram)\n",
    "\n",
    "    spectrograms.append(spectrogram)"
   ]
  },
  {
   "cell_type": "code",
   "execution_count": 5,
   "metadata": {},
   "outputs": [
    {
     "name": "stderr",
     "output_type": "stream",
     "text": [
      "Calculating mean and std: 100%|██████████| 4/4 [00:02<00:00,  1.42it/s]\n"
     ]
    },
    {
     "name": "stdout",
     "output_type": "stream",
     "text": [
      "Вычисленное среднее: -1.0866488218307495\n",
      "Вычисленное стандартное отклонение: 17.541074344830257\n"
     ]
    },
    {
     "name": "stderr",
     "output_type": "stream",
     "text": [
      "Calculating mean and std: 100%|██████████| 4/4 [00:02<00:00,  1.88it/s]"
     ]
    },
    {
     "name": "stdout",
     "output_type": "stream",
     "text": [
      "Среднее после нормализации: -9.405615841728832e-09\n",
      "Стандартное отклонение после нормализации: 0.9999999997562181\n"
     ]
    },
    {
     "name": "stderr",
     "output_type": "stream",
     "text": [
      "\n"
     ]
    }
   ],
   "source": [
    "normalizer1 = SpectrogramNormalizer()\n",
    "normalizer1.fit(spectrograms)\n",
    "\n",
    "print(f\"Вычисленное среднее: {normalizer1.mean}\")\n",
    "print(f\"Вычисленное стандартное отклонение: {normalizer1.std}\")\n",
    "\n",
    "normalizer2 = SpectrogramNormalizer(\n",
    "    mean=normalizer1.mean,\n",
    "    std=normalizer1.std\n",
    ")\n",
    "normalizer2.fit(\n",
    "    spectrograms=[\n",
    "        normalizer1.transform(spectrogram)\n",
    "        for spectrogram in spectrograms\n",
    "    ],\n",
    ")\n",
    "\n",
    "print(f\"Среднее после нормализации: {normalizer2.mean}\")\n",
    "print(f\"Стандартное отклонение после нормализации: {normalizer2.std}\")"
   ]
  },
  {
   "cell_type": "code",
   "execution_count": 2,
   "metadata": {},
   "outputs": [
    {
     "name": "stderr",
     "output_type": "stream",
     "text": [
      "Slicing audio and melody: 100%|██████████| 103/103 [00:08<00:00, 11.52it/s]\n"
     ]
    }
   ],
   "source": [
    "train_dataset = MelodyDataset.from_path(\"../datasets/melody_extraction/processed/train\")\n",
    "pipeline = train_dataset.pipeline"
   ]
  },
  {
   "cell_type": "code",
   "execution_count": 3,
   "metadata": {},
   "outputs": [],
   "source": [
    "labels = [pipeline._get_label(m) for m in train_dataset.sliced_melody]"
   ]
  },
  {
   "cell_type": "code",
   "execution_count": 4,
   "metadata": {},
   "outputs": [
    {
     "name": "stdout",
     "output_type": "stream",
     "text": [
      "freqs_min = 0.0\n",
      "freqs_max = 1567.981689453125\n",
      "durations_min = 0.25\n",
      "durations_max = 10.0\n",
      "seq_len_min = 3\n",
      "seq_len_max = 58\n"
     ]
    }
   ],
   "source": [
    "label_normalizer = LabelNormalizer()\n",
    "label_normalizer.fit_from_labels(labels)\n",
    "\n",
    "print(f\"freqs_min = {label_normalizer.freq_min}\")\n",
    "print(f\"freqs_max = {label_normalizer.freq_max}\")\n",
    "print(f\"durations_min = {label_normalizer.dur_min}\")\n",
    "print(f\"durations_max = {label_normalizer.dur_max}\")\n",
    "print(f\"seq_len_min = {label_normalizer.seq_len_min}\")\n",
    "print(f\"seq_len_max = {label_normalizer.seq_len_max}\")"
   ]
  },
  {
   "cell_type": "code",
   "execution_count": 13,
   "metadata": {},
   "outputs": [
    {
     "data": {
      "text/plain": [
       "tensor([493.8833,   0.0000, 880.0000, 880.0000,   0.0000, 440.0000, 493.8833,\n",
       "        440.0000, 739.9888])"
      ]
     },
     "execution_count": 13,
     "metadata": {},
     "output_type": "execute_result"
    }
   ],
   "source": [
    "labels[42].freqs"
   ]
  },
  {
   "cell_type": "code",
   "execution_count": 14,
   "metadata": {},
   "outputs": [
    {
     "data": {
      "text/plain": [
       "tensor([0.6265, 0.0000, 0.6847, 0.6847, 0.0000, 0.6148, 0.6265, 0.6148, 0.6672])"
      ]
     },
     "execution_count": 14,
     "metadata": {},
     "output_type": "execute_result"
    }
   ],
   "source": [
    "label = label_normalizer.transform_label(labels[42])\n",
    "label.freqs"
   ]
  },
  {
   "cell_type": "code",
   "execution_count": 15,
   "metadata": {},
   "outputs": [
    {
     "data": {
      "text/plain": [
       "tensor([493.8834,   0.0000, 879.9999, 879.9999,   0.0000, 439.9999, 493.8834,\n",
       "        439.9999, 739.9888])"
      ]
     },
     "execution_count": 15,
     "metadata": {},
     "output_type": "execute_result"
    }
   ],
   "source": [
    "label = label_normalizer.inverse_transform_label(label)\n",
    "label.freqs"
   ]
  }
 ],
 "metadata": {
  "kernelspec": {
   "display_name": "Python 3",
   "language": "python",
   "name": "python3"
  },
  "language_info": {
   "codemirror_mode": {
    "name": "ipython",
    "version": 3
   },
   "file_extension": ".py",
   "mimetype": "text/x-python",
   "name": "python",
   "nbconvert_exporter": "python",
   "pygments_lexer": "ipython3",
   "version": "3.10.11"
  }
 },
 "nbformat": 4,
 "nbformat_minor": 2
}
