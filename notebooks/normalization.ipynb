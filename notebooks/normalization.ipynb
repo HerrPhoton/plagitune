{
 "cells": [
  {
   "cell_type": "code",
   "execution_count": 1,
   "metadata": {},
   "outputs": [],
   "source": [
    "import sys\n",
    "sys.path.append(\"..\")\n",
    "\n",
    "from src.data.utils.spectrogram_normalizer import SpectrogramNormalizer\n",
    "from src.data.utils.label_normalizer import LabelNormalizer\n",
    "from src.data.datasets.melody_dataset import MelodyDataset\n",
    "from src.data.datasets.audio_dataset import AudioDataset"
   ]
  },
  {
   "cell_type": "code",
   "execution_count": 2,
   "metadata": {},
   "outputs": [
    {
     "name": "stderr",
     "output_type": "stream",
     "text": [
      "Slicing audio: 100%|██████████| 103/103 [00:18<00:00,  5.45it/s]\n"
     ]
    }
   ],
   "source": [
    "train_dataset = AudioDataset.from_path(\"../datasets/melody_extraction/processed/train\")\n",
    "pipeline = train_dataset.pipeline"
   ]
  },
  {
   "cell_type": "code",
   "execution_count": 3,
   "metadata": {},
   "outputs": [],
   "source": [
    "spectrograms = []\n",
    "\n",
    "for a in train_dataset.audio:\n",
    "    \n",
    "    a.trim_silence()\n",
    "    a = pipeline._preprocess_audio(a)\n",
    "\n",
    "    spectrogram = pipeline._get_spectrogram(a)\n",
    "    spectrogram = pipeline.amplitude_to_db(spectrogram.spectrogram)\n",
    "\n",
    "    spectrograms.append(spectrogram)"
   ]
  },
  {
   "cell_type": "code",
   "execution_count": 5,
   "metadata": {},
   "outputs": [
    {
     "name": "stderr",
     "output_type": "stream",
     "text": [
      "Calculating mean and std: 100%|██████████| 4/4 [00:02<00:00,  1.42it/s]\n"
     ]
    },
    {
     "name": "stdout",
     "output_type": "stream",
     "text": [
      "Вычисленное среднее: -1.0866488218307495\n",
      "Вычисленное стандартное отклонение: 17.541074344830257\n"
     ]
    },
    {
     "name": "stderr",
     "output_type": "stream",
     "text": [
      "Calculating mean and std: 100%|██████████| 4/4 [00:02<00:00,  1.88it/s]"
     ]
    },
    {
     "name": "stdout",
     "output_type": "stream",
     "text": [
      "Среднее после нормализации: -9.405615841728832e-09\n",
      "Стандартное отклонение после нормализации: 0.9999999997562181\n"
     ]
    },
    {
     "name": "stderr",
     "output_type": "stream",
     "text": [
      "\n"
     ]
    }
   ],
   "source": [
    "normalizer1 = SpectrogramNormalizer()\n",
    "normalizer1.fit(spectrograms)\n",
    "\n",
    "print(f\"Вычисленное среднее: {normalizer1.mean}\")\n",
    "print(f\"Вычисленное стандартное отклонение: {normalizer1.std}\")\n",
    "\n",
    "normalizer2 = SpectrogramNormalizer(\n",
    "    mean=normalizer1.mean,\n",
    "    std=normalizer1.std\n",
    ")\n",
    "normalizer2.fit(\n",
    "    spectrograms=[\n",
    "        normalizer1.transform(spectrogram)\n",
    "        for spectrogram in spectrograms\n",
    "    ],\n",
    ")\n",
    "\n",
    "print(f\"Среднее после нормализации: {normalizer2.mean}\")\n",
    "print(f\"Стандартное отклонение после нормализации: {normalizer2.std}\")"
   ]
  },
  {
   "cell_type": "code",
   "execution_count": 2,
   "metadata": {},
   "outputs": [
    {
     "name": "stderr",
     "output_type": "stream",
     "text": [
      "Slicing audio and melody: 100%|██████████| 103/103 [00:07<00:00, 13.20it/s]\n"
     ]
    }
   ],
   "source": [
    "train_dataset = MelodyDataset.from_path(\"../datasets/melody_extraction/processed/train\")\n",
    "pipeline = train_dataset.pipeline"
   ]
  },
  {
   "cell_type": "code",
   "execution_count": 6,
   "metadata": {},
   "outputs": [],
   "source": [
    "labels = [pipeline._get_label(m) for m in train_dataset.sliced_melody]"
   ]
  },
  {
   "cell_type": "code",
   "execution_count": 7,
   "metadata": {},
   "outputs": [
    {
     "name": "stdout",
     "output_type": "stream",
     "text": [
      "interval_min = -22.0\n",
      "interval_max = 26.0\n",
      "dur_min = 7.856235606595874e-05\n",
      "dur_max = 9.999990463256836\n",
      "seq_len_min = 2\n",
      "seq_len_max = 49\n"
     ]
    }
   ],
   "source": [
    "label_normalizer = LabelNormalizer()\n",
    "label_normalizer.fit_from_labels(labels)\n",
    "\n",
    "print(f\"interval_min = {label_normalizer.interval_min}\")\n",
    "print(f\"interval_max = {label_normalizer.interval_max}\")\n",
    "print(f\"dur_min = {label_normalizer.dur_min}\")\n",
    "print(f\"dur_max = {label_normalizer.dur_max}\")\n",
    "print(f\"seq_len_min = {label_normalizer.seq_len_min}\")\n",
    "print(f\"seq_len_max = {label_normalizer.seq_len_max}\")"
   ]
  },
  {
   "cell_type": "code",
   "execution_count": 24,
   "metadata": {},
   "outputs": [
    {
     "data": {
      "text/plain": [
       "tensor([-inf, inf,  0., -inf, inf,  2., -2.,  9.])"
      ]
     },
     "execution_count": 24,
     "metadata": {},
     "output_type": "execute_result"
    }
   ],
   "source": [
    "labels[42].intervals"
   ]
  },
  {
   "cell_type": "code",
   "execution_count": 25,
   "metadata": {},
   "outputs": [
    {
     "data": {
      "text/plain": [
       "tensor([-0.1000,  1.1000,  0.4583, -0.1000,  1.1000,  0.5000,  0.4167,  0.6458])"
      ]
     },
     "execution_count": 25,
     "metadata": {},
     "output_type": "execute_result"
    }
   ],
   "source": [
    "label = label_normalizer.transform_label(labels[42])\n",
    "label.intervals"
   ]
  },
  {
   "cell_type": "code",
   "execution_count": 26,
   "metadata": {},
   "outputs": [
    {
     "data": {
      "text/plain": [
       "tensor([-inf, inf,  0., -inf, inf,  2., -2.,  9.])"
      ]
     },
     "execution_count": 26,
     "metadata": {},
     "output_type": "execute_result"
    }
   ],
   "source": [
    "label = label_normalizer.inverse_transform_label(label)\n",
    "label.intervals"
   ]
  }
 ],
 "metadata": {
  "kernelspec": {
   "display_name": "Python 3",
   "language": "python",
   "name": "python3"
  },
  "language_info": {
   "codemirror_mode": {
    "name": "ipython",
    "version": 3
   },
   "file_extension": ".py",
   "mimetype": "text/x-python",
   "name": "python",
   "nbconvert_exporter": "python",
   "pygments_lexer": "ipython3",
   "version": "3.10.11"
  }
 },
 "nbformat": 4,
 "nbformat_minor": 2
}
