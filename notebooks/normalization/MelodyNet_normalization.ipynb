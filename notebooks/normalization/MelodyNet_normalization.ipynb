{
 "cells": [
  {
   "cell_type": "code",
   "execution_count": 1,
   "metadata": {},
   "outputs": [],
   "source": [
    "from copy import deepcopy\n",
    "\n",
    "import sys\n",
    "sys.path.append(\"..\\..\")\n",
    "\n",
    "import torch\n",
    "from tqdm import tqdm\n",
    "\n",
    "from src.data.normalizers.spectrogram_normalizer import SpectrogramNormalizer\n",
    "from src.data.normalizers.label_normalizer import LabelNormalizer\n",
    "from src.data.datasets.melody_dataset import MelodyDataset\n",
    "from src.data.datasets.audio_dataset import AudioDataset"
   ]
  },
  {
   "cell_type": "code",
   "execution_count": 2,
   "metadata": {},
   "outputs": [
    {
     "name": "stderr",
     "output_type": "stream",
     "text": [
      "Slicing audio: 100%|██████████| 103/103 [00:21<00:00,  4.88it/s]\n",
      "Preprocessing audio: 100%|██████████| 1167/1167 [00:14<00:00, 78.61it/s] \n"
     ]
    }
   ],
   "source": [
    "train_dataset = AudioDataset.from_path(\"../../datasets/melody_extraction/processed/train\")\n",
    "pipeline = train_dataset.pipeline"
   ]
  },
  {
   "cell_type": "code",
   "execution_count": 3,
   "metadata": {},
   "outputs": [
    {
     "name": "stderr",
     "output_type": "stream",
     "text": [
      "100%|██████████| 103/103 [00:09<00:00, 11.39it/s]\n"
     ]
    }
   ],
   "source": [
    "spectrograms = []\n",
    "\n",
    "for a in tqdm(train_dataset.audio):\n",
    "    \n",
    "    audio_copy = deepcopy(a)\n",
    "    audio_copy.trim_silence()\n",
    "    audio_copy = pipeline._preprocess_audio(audio_copy)\n",
    "\n",
    "    spectrogram = pipeline._get_spectrogram(audio_copy)\n",
    "    spectrogram = pipeline.amplitude_to_db(spectrogram.spectrogram)\n",
    "    spectrogram = torch.nn.functional.interpolate(\n",
    "        spectrogram.unsqueeze(0),\n",
    "        size=(128, 256),\n",
    "        mode='bilinear',\n",
    "        align_corners=True\n",
    "    ).squeeze(0)\n",
    "    \n",
    "    spectrograms.append(spectrogram)"
   ]
  },
  {
   "cell_type": "code",
   "execution_count": 4,
   "metadata": {},
   "outputs": [
    {
     "name": "stderr",
     "output_type": "stream",
     "text": [
      "Calculating mean and std: 100%|██████████| 4/4 [00:02<00:00,  1.84it/s]\n"
     ]
    },
    {
     "name": "stdout",
     "output_type": "stream",
     "text": [
      "Вычисленное среднее: 6.772914886474609\n",
      "Вычисленное стандартное отклонение: 16.016413179469225\n"
     ]
    },
    {
     "name": "stderr",
     "output_type": "stream",
     "text": [
      "Calculating mean and std: 100%|██████████| 4/4 [00:02<00:00,  1.88it/s]"
     ]
    },
    {
     "name": "stdout",
     "output_type": "stream",
     "text": [
      "Среднее после нормализации: 1.1076409789367858e-09\n",
      "Стандартное отклонение после нормализации: 1.0000000294055902\n"
     ]
    },
    {
     "name": "stderr",
     "output_type": "stream",
     "text": [
      "\n"
     ]
    }
   ],
   "source": [
    "normalizer1 = SpectrogramNormalizer()\n",
    "normalizer1.fit(spectrograms)\n",
    "\n",
    "print(f\"Вычисленное среднее: {normalizer1.mean}\")\n",
    "print(f\"Вычисленное стандартное отклонение: {normalizer1.std}\")\n",
    "\n",
    "normalizer2 = SpectrogramNormalizer(\n",
    "    mean=normalizer1.mean,\n",
    "    std=normalizer1.std\n",
    ")\n",
    "normalizer2.fit(\n",
    "    spectrograms=[\n",
    "        normalizer1.transform(spectrogram)\n",
    "        for spectrogram in spectrograms\n",
    "    ],\n",
    ")\n",
    "\n",
    "print(f\"Среднее после нормализации: {normalizer2.mean}\")\n",
    "print(f\"Стандартное отклонение после нормализации: {normalizer2.std}\")"
   ]
  },
  {
   "cell_type": "code",
   "execution_count": 10,
   "metadata": {},
   "outputs": [
    {
     "name": "stderr",
     "output_type": "stream",
     "text": [
      "Slicing audio and melody: 100%|██████████| 103/103 [00:06<00:00, 14.75it/s]\n",
      "Preprocessing data: 100%|██████████| 1233/1233 [00:15<00:00, 80.44it/s] \n"
     ]
    }
   ],
   "source": [
    "train_dataset = MelodyDataset.from_path(\"../datasets/melody_extraction/processed/train\")\n",
    "pipeline = train_dataset.pipeline"
   ]
  },
  {
   "cell_type": "code",
   "execution_count": 11,
   "metadata": {},
   "outputs": [],
   "source": [
    "labels = [pipeline._get_label(m) for m in train_dataset.sliced_melody]"
   ]
  },
  {
   "cell_type": "code",
   "execution_count": 12,
   "metadata": {},
   "outputs": [
    {
     "name": "stdout",
     "output_type": "stream",
     "text": [
      "freqs_min = 0.0\n",
      "freqs_max = 1567.981689453125\n",
      "durations_min = 0.25\n",
      "durations_max = 10.0\n",
      "seq_len_min = 2\n",
      "seq_len_max = 58\n"
     ]
    }
   ],
   "source": [
    "label_normalizer = LabelNormalizer()\n",
    "label_normalizer.fit_from_labels(labels)\n",
    "\n",
    "print(f\"freqs_min = {label_normalizer.freq_min}\")\n",
    "print(f\"freqs_max = {label_normalizer.freq_max}\")\n",
    "print(f\"durations_min = {label_normalizer.dur_min}\")\n",
    "print(f\"durations_max = {label_normalizer.dur_max}\")\n",
    "print(f\"seq_len_min = {label_normalizer.seq_len_min}\")\n",
    "print(f\"seq_len_max = {label_normalizer.seq_len_max}\")"
   ]
  },
  {
   "cell_type": "code",
   "execution_count": 13,
   "metadata": {},
   "outputs": [
    {
     "data": {
      "text/plain": [
       "tensor([184.9972, 184.9972, 184.9972, 184.9972,   0.0000])"
      ]
     },
     "execution_count": 13,
     "metadata": {},
     "output_type": "execute_result"
    }
   ],
   "source": [
    "labels[42].freqs"
   ]
  },
  {
   "cell_type": "code",
   "execution_count": 14,
   "metadata": {},
   "outputs": [
    {
     "data": {
      "text/plain": [
       "tensor([0.7102, 0.7102, 0.7102, 0.7102, 0.0000])"
      ]
     },
     "execution_count": 14,
     "metadata": {},
     "output_type": "execute_result"
    }
   ],
   "source": [
    "label = label_normalizer.transform_label(labels[42])\n",
    "label.freqs"
   ]
  },
  {
   "cell_type": "code",
   "execution_count": 15,
   "metadata": {},
   "outputs": [
    {
     "data": {
      "text/plain": [
       "tensor([184.9972, 184.9972, 184.9972, 184.9972,   0.0000])"
      ]
     },
     "execution_count": 15,
     "metadata": {},
     "output_type": "execute_result"
    }
   ],
   "source": [
    "label = label_normalizer.inverse_transform_label(label)\n",
    "label.freqs"
   ]
  }
 ],
 "metadata": {
  "kernelspec": {
   "display_name": "Python 3",
   "language": "python",
   "name": "python3"
  },
  "language_info": {
   "codemirror_mode": {
    "name": "ipython",
    "version": 3
   },
   "file_extension": ".py",
   "mimetype": "text/x-python",
   "name": "python",
   "nbconvert_exporter": "python",
   "pygments_lexer": "ipython3",
   "version": "3.10.11"
  }
 },
 "nbformat": 4,
 "nbformat_minor": 2
}
