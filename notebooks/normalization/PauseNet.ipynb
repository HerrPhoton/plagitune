{
 "cells": [
  {
   "cell_type": "code",
   "execution_count": 1,
   "metadata": {},
   "outputs": [],
   "source": [
    "import sys\n",
    "sys.path.append(\"..\\..\")\n",
    "\n",
    "from tqdm import tqdm\n",
    "\n",
    "from src.data.datasets.pause import PauseDataset\n",
    "from src.data.loaders.pause import get_pause_dataloader"
   ]
  },
  {
   "cell_type": "code",
   "execution_count": 2,
   "metadata": {},
   "outputs": [
    {
     "name": "stderr",
     "output_type": "stream",
     "text": [
      "Slicing audio and melody: 100%|██████████| 103/103 [00:07<00:00, 13.07it/s]\n",
      "Preprocessing data: 100%|██████████| 1230/1230 [00:14<00:00, 83.04it/s] \n"
     ]
    }
   ],
   "source": [
    "train_dataset = PauseDataset.from_path(\"../../datasets/MelodyNet/processed/train\")\n",
    "train_loader = get_pause_dataloader(train_dataset, batch_size=32, num_workers=4, shuffle=False)"
   ]
  },
  {
   "cell_type": "code",
   "execution_count": 3,
   "metadata": {},
   "outputs": [
    {
     "name": "stderr",
     "output_type": "stream",
     "text": [
      "100%|██████████| 39/39 [00:11<00:00,  3.26it/s]"
     ]
    },
    {
     "name": "stdout",
     "output_type": "stream",
     "text": [
      "class 0 weight: 0.6626262664794922, class 1 weight: 2.037266969680786\n"
     ]
    },
    {
     "name": "stderr",
     "output_type": "stream",
     "text": [
      "\n"
     ]
    }
   ],
   "source": [
    "num_zeros = 0\n",
    "num_ones = 0\n",
    "\n",
    "for _, targets in tqdm(train_loader):\n",
    "    num_zeros += (targets == 0).sum()\n",
    "    num_ones += (targets == 1).sum()\n",
    "\n",
    "total = num_zeros + num_ones\n",
    "weight_0 = total / (2 * num_zeros) if num_zeros > 0 else 1.0\n",
    "weight_1 = total / (2 * num_ones) if num_ones > 0 else 1.0\n",
    "\n",
    "print(f\"class 0 weight: {weight_0}, class 1 weight: {weight_1}\")"
   ]
  }
 ],
 "metadata": {
  "kernelspec": {
   "display_name": "Python 3",
   "language": "python",
   "name": "python3"
  },
  "language_info": {
   "codemirror_mode": {
    "name": "ipython",
    "version": 3
   },
   "file_extension": ".py",
   "mimetype": "text/x-python",
   "name": "python",
   "nbconvert_exporter": "python",
   "pygments_lexer": "ipython3",
   "version": "3.10.11"
  }
 },
 "nbformat": 4,
 "nbformat_minor": 2
}
